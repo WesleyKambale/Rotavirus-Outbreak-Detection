{
  "nbformat": 4,
  "nbformat_minor": 0,
  "metadata": {
    "colab": {
      "name": "RotaVirus.ipynb",
      "provenance": [],
      "collapsed_sections": [],
      "include_colab_link": true
    },
    "kernelspec": {
      "display_name": "Python 3",
      "language": "python",
      "name": "python3"
    },
    "language_info": {
      "codemirror_mode": {
        "name": "ipython",
        "version": 3
      },
      "file_extension": ".py",
      "mimetype": "text/x-python",
      "name": "python",
      "nbconvert_exporter": "python",
      "pygments_lexer": "ipython3",
      "version": "3.7.4"
    }
  },
  "cells": [
    {
      "cell_type": "markdown",
      "metadata": {
        "id": "view-in-github",
        "colab_type": "text"
      },
      "source": [
        "<a href=\"https://colab.research.google.com/github/WesleyKambale/rotavirus/blob/main/RotaVirus.ipynb\" target=\"_parent\"><img src=\"https://colab.research.google.com/assets/colab-badge.svg\" alt=\"Open In Colab\"/></a>"
      ]
    },
    {
      "cell_type": "code",
      "metadata": {
        "id": "QkI5MoXZuamk"
      },
      "source": [
        "import math\n",
        "import os\n",
        "import pandas as pd\n",
        "import numpy as np\n",
        "import seaborn as sns\n",
        "import matplotlib.pyplot as plt\n",
        "import matplotlib.gridspec as gridspec\n",
        "import itertools\n",
        "import warnings\n",
        "from sklearn.svm import SVC\n",
        "warnings.filterwarnings('ignore')\n",
        "from sklearn.tree import DecisionTreeClassifier\n",
        "from sklearn.model_selection import train_test_split\n",
        "from sklearn import metrics\n",
        "from sklearn.metrics import confusion_matrix\n",
        "from sklearn.linear_model import LinearRegression \n",
        "from sklearn.metrics import r2_score\n",
        "from sklearn.linear_model import LogisticRegression\n",
        "from sklearn.metrics import accuracy_score\n",
        "from sklearn.preprocessing import StandardScaler\n",
        "from sklearn.ensemble import RandomForestClassifier\n",
        "from sklearn.neighbors import KNeighborsClassifier\n",
        "from sklearn.model_selection import GridSearchCV\n",
        "pd.plotting.register_matplotlib_converters()\n",
        "%matplotlib inline\n",
        "import seaborn as sns"
      ],
      "execution_count": null,
      "outputs": []
    },
    {
      "cell_type": "code",
      "metadata": {
        "id": "UnVeQ10jXZjE"
      },
      "source": [
        "df18 = pd.read_csv('/content/RotaVirus2018.csv')\n",
        "df19 = pd.read_csv('/content/RotaVirus2019.csv')"
      ],
      "execution_count": null,
      "outputs": []
    },
    {
      "cell_type": "code",
      "metadata": {
        "id": "nH_cN9Y6clFo"
      },
      "source": [
        "def assess_NA(data):\n",
        "    \"\"\"\n",
        "    Returns a pandas dataframe denoting the total number of NA values and the percentage of NA values in each column.\n",
        "    The column names are noted on the index.\n",
        "    \n",
        "    Parameters\n",
        "    ----------\n",
        "    data: dataframe\n",
        "    \"\"\"\n",
        "    # pandas series denoting features and the sum of their null values\n",
        "    null_sum = data.isnull().sum()# instantiate columns for missing data\n",
        "    total = null_sum.sort_values(ascending=False)\n",
        "    percent = ( ((null_sum / len(data.index))*100).round(2) ).sort_values(ascending=False)\n",
        "    \n",
        "    # concatenate along the columns to create the complete dataframe\n",
        "    df_NA = pd.concat([total, percent], axis=1, keys=['Number of NA', 'Percent NA'])\n",
        "    \n",
        "    # drop rows that don't have any missing data; omit if you want to keep all rows\n",
        "    df_NA = df_NA[ (df_NA.T != 0).any() ]\n",
        "    \n",
        "    return df_NA"
      ],
      "execution_count": null,
      "outputs": []
    },
    {
      "cell_type": "code",
      "metadata": {
        "id": "x32GN20ivGnM",
        "colab": {
          "base_uri": "https://localhost:8080/",
          "height": 204
        },
        "outputId": "5150ad30-f635-42b2-af3b-752d827c88c6"
      },
      "source": [
        "df_NA = assess_NA(df18)\n",
        "df_NA"
      ],
      "execution_count": null,
      "outputs": [
        {
          "output_type": "execute_result",
          "data": {
            "text/html": [
              "<div>\n",
              "<style scoped>\n",
              "    .dataframe tbody tr th:only-of-type {\n",
              "        vertical-align: middle;\n",
              "    }\n",
              "\n",
              "    .dataframe tbody tr th {\n",
              "        vertical-align: top;\n",
              "    }\n",
              "\n",
              "    .dataframe thead th {\n",
              "        text-align: right;\n",
              "    }\n",
              "</style>\n",
              "<table border=\"1\" class=\"dataframe\">\n",
              "  <thead>\n",
              "    <tr style=\"text-align: right;\">\n",
              "      <th></th>\n",
              "      <th>Number of NA</th>\n",
              "      <th>Percent NA</th>\n",
              "    </tr>\n",
              "  </thead>\n",
              "  <tbody>\n",
              "    <tr>\n",
              "      <th>VILLAGE</th>\n",
              "      <td>11</td>\n",
              "      <td>4.04</td>\n",
              "    </tr>\n",
              "    <tr>\n",
              "      <th>BMI</th>\n",
              "      <td>7</td>\n",
              "      <td>2.57</td>\n",
              "    </tr>\n",
              "    <tr>\n",
              "      <th>NEW DIAGNOSIS</th>\n",
              "      <td>5</td>\n",
              "      <td>1.84</td>\n",
              "    </tr>\n",
              "    <tr>\n",
              "      <th>NEXT OF KIN</th>\n",
              "      <td>1</td>\n",
              "      <td>0.37</td>\n",
              "    </tr>\n",
              "    <tr>\n",
              "      <th>WEIGHT</th>\n",
              "      <td>1</td>\n",
              "      <td>0.37</td>\n",
              "    </tr>\n",
              "  </tbody>\n",
              "</table>\n",
              "</div>"
            ],
            "text/plain": [
              "               Number of NA  Percent NA\n",
              "VILLAGE                  11        4.04\n",
              "BMI                       7        2.57\n",
              "NEW DIAGNOSIS             5        1.84\n",
              "NEXT OF KIN               1        0.37\n",
              "WEIGHT                    1        0.37"
            ]
          },
          "metadata": {
            "tags": []
          },
          "execution_count": 6
        }
      ]
    },
    {
      "cell_type": "code",
      "metadata": {
        "id": "taAvTT7xvNqC",
        "colab": {
          "base_uri": "https://localhost:8080/",
          "height": 173
        },
        "outputId": "951529ab-6525-4f00-95e9-75f62fbc7d3e"
      },
      "source": [
        "df_NA = assess_NA(df19)\n",
        "df_NA"
      ],
      "execution_count": null,
      "outputs": [
        {
          "output_type": "execute_result",
          "data": {
            "text/html": [
              "<div>\n",
              "<style scoped>\n",
              "    .dataframe tbody tr th:only-of-type {\n",
              "        vertical-align: middle;\n",
              "    }\n",
              "\n",
              "    .dataframe tbody tr th {\n",
              "        vertical-align: top;\n",
              "    }\n",
              "\n",
              "    .dataframe thead th {\n",
              "        text-align: right;\n",
              "    }\n",
              "</style>\n",
              "<table border=\"1\" class=\"dataframe\">\n",
              "  <thead>\n",
              "    <tr style=\"text-align: right;\">\n",
              "      <th></th>\n",
              "      <th>Number of NA</th>\n",
              "      <th>Percent NA</th>\n",
              "    </tr>\n",
              "  </thead>\n",
              "  <tbody>\n",
              "    <tr>\n",
              "      <th>VILLAGE</th>\n",
              "      <td>39</td>\n",
              "      <td>3.73</td>\n",
              "    </tr>\n",
              "    <tr>\n",
              "      <th>BMI</th>\n",
              "      <td>28</td>\n",
              "      <td>2.68</td>\n",
              "    </tr>\n",
              "    <tr>\n",
              "      <th>NEW DIAGNOSIS</th>\n",
              "      <td>18</td>\n",
              "      <td>1.72</td>\n",
              "    </tr>\n",
              "    <tr>\n",
              "      <th>WEIGHT</th>\n",
              "      <td>1</td>\n",
              "      <td>0.10</td>\n",
              "    </tr>\n",
              "  </tbody>\n",
              "</table>\n",
              "</div>"
            ],
            "text/plain": [
              "               Number of NA  Percent NA\n",
              "VILLAGE                  39        3.73\n",
              "BMI                      28        2.68\n",
              "NEW DIAGNOSIS            18        1.72\n",
              "WEIGHT                    1        0.10"
            ]
          },
          "metadata": {
            "tags": []
          },
          "execution_count": 7
        }
      ]
    },
    {
      "cell_type": "code",
      "metadata": {
        "id": "8LnmpMLMvyqQ"
      },
      "source": [
        "train = pd.read_csv('/content/RotaVirus1.csv')\n",
        "test = pd.read_csv('/content/RotaVirus2.csv')"
      ],
      "execution_count": null,
      "outputs": []
    },
    {
      "cell_type": "code",
      "metadata": {
        "id": "es08R9bo4FoB",
        "colab": {
          "base_uri": "https://localhost:8080/",
          "height": 421
        },
        "outputId": "55211935-7a33-4710-fde7-daabfe0f785f"
      },
      "source": [
        "train.dropna()"
      ],
      "execution_count": null,
      "outputs": [
        {
          "output_type": "execute_result",
          "data": {
            "text/html": [
              "<div>\n",
              "<style scoped>\n",
              "    .dataframe tbody tr th:only-of-type {\n",
              "        vertical-align: middle;\n",
              "    }\n",
              "\n",
              "    .dataframe tbody tr th {\n",
              "        vertical-align: top;\n",
              "    }\n",
              "\n",
              "    .dataframe thead th {\n",
              "        text-align: right;\n",
              "    }\n",
              "</style>\n",
              "<table border=\"1\" class=\"dataframe\">\n",
              "  <thead>\n",
              "    <tr style=\"text-align: right;\">\n",
              "      <th></th>\n",
              "      <th>Month</th>\n",
              "      <th>Reported Cases</th>\n",
              "      <th>Season</th>\n",
              "      <th>Death Case</th>\n",
              "    </tr>\n",
              "  </thead>\n",
              "  <tbody>\n",
              "    <tr>\n",
              "      <th>0</th>\n",
              "      <td>January</td>\n",
              "      <td>4.0</td>\n",
              "      <td>Dry</td>\n",
              "      <td>0.0</td>\n",
              "    </tr>\n",
              "    <tr>\n",
              "      <th>1</th>\n",
              "      <td>February</td>\n",
              "      <td>5.0</td>\n",
              "      <td>Dry</td>\n",
              "      <td>0.0</td>\n",
              "    </tr>\n",
              "    <tr>\n",
              "      <th>2</th>\n",
              "      <td>March</td>\n",
              "      <td>10.0</td>\n",
              "      <td>Wet</td>\n",
              "      <td>1.0</td>\n",
              "    </tr>\n",
              "    <tr>\n",
              "      <th>3</th>\n",
              "      <td>April</td>\n",
              "      <td>8.0</td>\n",
              "      <td>Wet</td>\n",
              "      <td>0.0</td>\n",
              "    </tr>\n",
              "    <tr>\n",
              "      <th>4</th>\n",
              "      <td>May</td>\n",
              "      <td>16.0</td>\n",
              "      <td>Wet</td>\n",
              "      <td>0.0</td>\n",
              "    </tr>\n",
              "    <tr>\n",
              "      <th>5</th>\n",
              "      <td>June</td>\n",
              "      <td>6.0</td>\n",
              "      <td>Dry</td>\n",
              "      <td>1.0</td>\n",
              "    </tr>\n",
              "    <tr>\n",
              "      <th>6</th>\n",
              "      <td>July</td>\n",
              "      <td>4.0</td>\n",
              "      <td>Dry</td>\n",
              "      <td>2.0</td>\n",
              "    </tr>\n",
              "    <tr>\n",
              "      <th>7</th>\n",
              "      <td>August</td>\n",
              "      <td>6.0</td>\n",
              "      <td>Dry</td>\n",
              "      <td>0.0</td>\n",
              "    </tr>\n",
              "    <tr>\n",
              "      <th>8</th>\n",
              "      <td>September</td>\n",
              "      <td>9.0</td>\n",
              "      <td>Wet</td>\n",
              "      <td>0.0</td>\n",
              "    </tr>\n",
              "    <tr>\n",
              "      <th>9</th>\n",
              "      <td>October</td>\n",
              "      <td>13.0</td>\n",
              "      <td>Wet</td>\n",
              "      <td>1.0</td>\n",
              "    </tr>\n",
              "    <tr>\n",
              "      <th>10</th>\n",
              "      <td>November</td>\n",
              "      <td>10.0</td>\n",
              "      <td>Wet</td>\n",
              "      <td>0.0</td>\n",
              "    </tr>\n",
              "    <tr>\n",
              "      <th>11</th>\n",
              "      <td>December</td>\n",
              "      <td>15.0</td>\n",
              "      <td>Wet</td>\n",
              "      <td>2.0</td>\n",
              "    </tr>\n",
              "  </tbody>\n",
              "</table>\n",
              "</div>"
            ],
            "text/plain": [
              "        Month  Reported Cases Season  Death Case\n",
              "0     January             4.0    Dry         0.0\n",
              "1    February             5.0    Dry         0.0\n",
              "2       March            10.0    Wet         1.0\n",
              "3       April             8.0    Wet         0.0\n",
              "4         May            16.0    Wet         0.0\n",
              "5        June             6.0    Dry         1.0\n",
              "6        July             4.0    Dry         2.0\n",
              "7      August             6.0    Dry         0.0\n",
              "8   September             9.0    Wet         0.0\n",
              "9     October            13.0    Wet         1.0\n",
              "10   November            10.0    Wet         0.0\n",
              "11   December            15.0    Wet         2.0"
            ]
          },
          "metadata": {
            "tags": []
          },
          "execution_count": 12
        }
      ]
    },
    {
      "cell_type": "code",
      "metadata": {
        "id": "MXwCf63U4WRW",
        "colab": {
          "base_uri": "https://localhost:8080/",
          "height": 421
        },
        "outputId": "95c7bb0e-2316-41a0-9ee2-0d549f1dcbd1"
      },
      "source": [
        "test.dropna()"
      ],
      "execution_count": null,
      "outputs": [
        {
          "output_type": "execute_result",
          "data": {
            "text/html": [
              "<div>\n",
              "<style scoped>\n",
              "    .dataframe tbody tr th:only-of-type {\n",
              "        vertical-align: middle;\n",
              "    }\n",
              "\n",
              "    .dataframe tbody tr th {\n",
              "        vertical-align: top;\n",
              "    }\n",
              "\n",
              "    .dataframe thead th {\n",
              "        text-align: right;\n",
              "    }\n",
              "</style>\n",
              "<table border=\"1\" class=\"dataframe\">\n",
              "  <thead>\n",
              "    <tr style=\"text-align: right;\">\n",
              "      <th></th>\n",
              "      <th>Month</th>\n",
              "      <th>Reported Cases</th>\n",
              "      <th>Season</th>\n",
              "      <th>Death Cases</th>\n",
              "    </tr>\n",
              "  </thead>\n",
              "  <tbody>\n",
              "    <tr>\n",
              "      <th>0</th>\n",
              "      <td>January</td>\n",
              "      <td>8.0</td>\n",
              "      <td>Dry</td>\n",
              "      <td>0.0</td>\n",
              "    </tr>\n",
              "    <tr>\n",
              "      <th>1</th>\n",
              "      <td>February</td>\n",
              "      <td>7.0</td>\n",
              "      <td>Dry</td>\n",
              "      <td>0.0</td>\n",
              "    </tr>\n",
              "    <tr>\n",
              "      <th>2</th>\n",
              "      <td>March</td>\n",
              "      <td>15.0</td>\n",
              "      <td>Wet</td>\n",
              "      <td>0.0</td>\n",
              "    </tr>\n",
              "    <tr>\n",
              "      <th>3</th>\n",
              "      <td>April</td>\n",
              "      <td>11.0</td>\n",
              "      <td>Wet</td>\n",
              "      <td>2.0</td>\n",
              "    </tr>\n",
              "    <tr>\n",
              "      <th>4</th>\n",
              "      <td>May</td>\n",
              "      <td>17.0</td>\n",
              "      <td>Wet</td>\n",
              "      <td>1.0</td>\n",
              "    </tr>\n",
              "    <tr>\n",
              "      <th>5</th>\n",
              "      <td>June</td>\n",
              "      <td>7.0</td>\n",
              "      <td>Dry</td>\n",
              "      <td>0.0</td>\n",
              "    </tr>\n",
              "    <tr>\n",
              "      <th>6</th>\n",
              "      <td>July</td>\n",
              "      <td>8.0</td>\n",
              "      <td>Dry</td>\n",
              "      <td>0.0</td>\n",
              "    </tr>\n",
              "    <tr>\n",
              "      <th>7</th>\n",
              "      <td>August</td>\n",
              "      <td>8.0</td>\n",
              "      <td>Dry</td>\n",
              "      <td>1.0</td>\n",
              "    </tr>\n",
              "    <tr>\n",
              "      <th>8</th>\n",
              "      <td>September</td>\n",
              "      <td>13.0</td>\n",
              "      <td>Wet</td>\n",
              "      <td>0.0</td>\n",
              "    </tr>\n",
              "    <tr>\n",
              "      <th>9</th>\n",
              "      <td>October</td>\n",
              "      <td>15.0</td>\n",
              "      <td>Wet</td>\n",
              "      <td>2.0</td>\n",
              "    </tr>\n",
              "    <tr>\n",
              "      <th>10</th>\n",
              "      <td>November</td>\n",
              "      <td>10.0</td>\n",
              "      <td>Wet</td>\n",
              "      <td>0.0</td>\n",
              "    </tr>\n",
              "    <tr>\n",
              "      <th>11</th>\n",
              "      <td>December</td>\n",
              "      <td>15.0</td>\n",
              "      <td>Wet</td>\n",
              "      <td>4.0</td>\n",
              "    </tr>\n",
              "  </tbody>\n",
              "</table>\n",
              "</div>"
            ],
            "text/plain": [
              "        Month  Reported Cases Season  Death Cases\n",
              "0     January             8.0    Dry          0.0\n",
              "1    February             7.0    Dry          0.0\n",
              "2       March            15.0    Wet          0.0\n",
              "3       April            11.0    Wet          2.0\n",
              "4         May            17.0    Wet          1.0\n",
              "5        June             7.0    Dry          0.0\n",
              "6        July             8.0    Dry          0.0\n",
              "7      August             8.0    Dry          1.0\n",
              "8   September            13.0    Wet          0.0\n",
              "9     October            15.0    Wet          2.0\n",
              "10   November            10.0    Wet          0.0\n",
              "11   December            15.0    Wet          4.0"
            ]
          },
          "metadata": {
            "tags": []
          },
          "execution_count": 13
        }
      ]
    },
    {
      "cell_type": "code",
      "metadata": {
        "id": "o5YJhB3XDLmA",
        "colab": {
          "base_uri": "https://localhost:8080/",
          "height": 312
        },
        "outputId": "896968e6-9f1a-46de-c15c-9cd305a9b7b5"
      },
      "source": [
        "fig, ax = plt.subplots()\n",
        "\n",
        "# scatter the sepal_length against the sepal_width\n",
        "ax.scatter(test['Reported Cases'], test['Death Cases'])\n",
        "# set a title and labels\n",
        "ax.set_title('A Scatter Graph for RotaVirus Cases in 2019')\n",
        "ax.set_xlabel('Reported Cases')\n",
        "ax.set_ylabel('Death Cases')"
      ],
      "execution_count": null,
      "outputs": [
        {
          "output_type": "execute_result",
          "data": {
            "text/plain": [
              "Text(0, 0.5, 'Death Cases')"
            ]
          },
          "metadata": {
            "tags": []
          },
          "execution_count": 14
        },
        {
          "output_type": "display_data",
          "data": {
            "image/png": "[encoded data removed]",
            "text/plain": [
              "<Figure size 432x288 with 1 Axes>"
            ]
          },
          "metadata": {
            "tags": [],
            "needs_background": "light"
          }
        }
      ]
    },
    {
      "cell_type": "code",
      "metadata": {
        "id": "9Lg7a5BOfHM0",
        "colab": {
          "base_uri": "https://localhost:8080/",
          "height": 312
        },
        "outputId": "bca29657-60a6-43eb-c18e-ce68487c0bf2"
      },
      "source": [
        "fig, ax = plt.subplots()\n",
        "\n",
        "# scatter the sepal_length against the sepal_width\n",
        "ax.scatter(train['Reported Cases'], train['Death Case'])\n",
        "# set a title and labels\n",
        "ax.set_title('A Scatter Graph for RotaVirus Cases in 2018')\n",
        "ax.set_xlabel('Reported Cases')\n",
        "ax.set_ylabel('Death Cases')"
      ],
      "execution_count": null,
      "outputs": [
        {
          "output_type": "execute_result",
          "data": {
            "text/plain": [
              "Text(0, 0.5, 'Death Cases')"
            ]
          },
          "metadata": {
            "tags": []
          },
          "execution_count": 15
        },
        {
          "output_type": "display_data",
          "data": {
            "image/png": "[encoded data removed]",
            "text/plain": [
              "<Figure size 432x288 with 1 Axes>"
            ]
          },
          "metadata": {
            "tags": [],
            "needs_background": "light"
          }
        }
      ]
    },
    {
      "cell_type": "code",
      "metadata": {
        "id": "JJj8QE7mhnse",
        "colab": {
          "base_uri": "https://localhost:8080/",
          "height": 312
        },
        "outputId": "bc751c62-5249-47fd-e4d0-55b7e40597a2"
      },
      "source": [
        "fig, ax = plt.subplots()\n",
        "# plot histogram\n",
        "ax.hist(train['Reported Cases'])\n",
        "# set title and labels\n",
        "ax.set_title('A Bar Graph for RotaVirus Cases in 2018')\n",
        "ax.set_xlabel('Cases')\n",
        "ax.set_ylabel('Months')"
      ],
      "execution_count": null,
      "outputs": [
        {
          "output_type": "execute_result",
          "data": {
            "text/plain": [
              "Text(0, 0.5, 'Months')"
            ]
          },
          "metadata": {
            "tags": []
          },
          "execution_count": 16
        },
        {
          "output_type": "display_data",
          "data": {
            "image/png": "[encoded data removed]",
            "text/plain": [
              "<Figure size 432x288 with 1 Axes>"
            ]
          },
          "metadata": {
            "tags": [],
            "needs_background": "light"
          }
        }
      ]
    },
    {
      "cell_type": "markdown",
      "metadata": {
        "id": "Y_6jNnfukhaj"
      },
      "source": [
        "sns.countplot(x='season',data=data)"
      ]
    },
    {
      "cell_type": "code",
      "metadata": {
        "id": "A0tcyezvMtd4",
        "colab": {
          "base_uri": "https://localhost:8080/",
          "height": 312
        },
        "outputId": "7c69f4fb-3c83-4c77-9914-fe9b4add5e17"
      },
      "source": [
        "sns.countplot(x='Season',data=train)\n",
        "plt.title('count of cases per season')"
      ],
      "execution_count": null,
      "outputs": [
        {
          "output_type": "execute_result",
          "data": {
            "text/plain": [
              "Text(0.5, 1.0, 'count of cases per season')"
            ]
          },
          "metadata": {
            "tags": []
          },
          "execution_count": 17
        },
        {
          "output_type": "display_data",
          "data": {
            "image/png": "[encoded data removed]",
            "text/plain": [
              "<Figure size 432x288 with 1 Axes>"
            ]
          },
          "metadata": {
            "tags": [],
            "needs_background": "light"
          }
        }
      ]
    },
    {
      "cell_type": "code",
      "metadata": {
        "id": "t3S8Xr4rMtd8",
        "colab": {
          "base_uri": "https://localhost:8080/"
        },
        "outputId": "dda7283e-b408-4938-e6d3-9aff82f357d3"
      },
      "source": [
        "#statistics of reported cases \n",
        "st=train['Reported Cases'].describe()\n",
        "st"
      ],
      "execution_count": null,
      "outputs": [
        {
          "output_type": "execute_result",
          "data": {
            "text/plain": [
              "count    12.000000\n",
              "mean      8.833333\n",
              "std       4.130449\n",
              "min       4.000000\n",
              "25%       5.750000\n",
              "50%       8.500000\n",
              "75%      10.750000\n",
              "max      16.000000\n",
              "Name: Reported Cases, dtype: float64"
            ]
          },
          "metadata": {
            "tags": []
          },
          "execution_count": 18
        }
      ]
    },
    {
      "cell_type": "code",
      "metadata": {
        "id": "CSyMvFieMteC",
        "colab": {
          "base_uri": "https://localhost:8080/"
        },
        "outputId": "eb8e90bf-86a8-40db-c6b1-f21acdb8c277"
      },
      "source": [
        "#statistics of death cases \n",
        "st=train['Death Case'].describe()\n",
        "st"
      ],
      "execution_count": null,
      "outputs": [
        {
          "output_type": "execute_result",
          "data": {
            "text/plain": [
              "count    12.000000\n",
              "mean      0.583333\n",
              "std       0.792961\n",
              "min       0.000000\n",
              "25%       0.000000\n",
              "50%       0.000000\n",
              "75%       1.000000\n",
              "max       2.000000\n",
              "Name: Death Case, dtype: float64"
            ]
          },
          "metadata": {
            "tags": []
          },
          "execution_count": 19
        }
      ]
    },
    {
      "cell_type": "code",
      "metadata": {
        "id": "4anuS2BRMteF",
        "colab": {
          "base_uri": "https://localhost:8080/",
          "height": 312
        },
        "outputId": "58703aeb-cbc8-4469-aafd-1a4102b18b36"
      },
      "source": [
        "#violin plots death cases against reported cases\n",
        "#plt.subplot(2,4,4)\n",
        "sns.violinplot(y= 'Reported Cases', x='Death Case', data = train)\n",
        "plt.title('violin plot of death cases against reported cases')"
      ],
      "execution_count": null,
      "outputs": [
        {
          "output_type": "execute_result",
          "data": {
            "text/plain": [
              "Text(0.5, 1.0, 'violin plot of death cases against reported cases')"
            ]
          },
          "metadata": {
            "tags": []
          },
          "execution_count": 20
        },
        {
          "output_type": "display_data",
          "data": {
            "image/png": "[encoded data removed]",
            "text/plain": [
              "<Figure size 432x288 with 1 Axes>"
            ]
          },
          "metadata": {
            "tags": [],
            "needs_background": "light"
          }
        }
      ]
    },
    {
      "cell_type": "code",
      "metadata": {
        "id": "XvgcImQNMteM",
        "colab": {
          "base_uri": "https://localhost:8080/",
          "height": 516
        },
        "outputId": "88741aab-c46f-4a93-ddc6-8405fe567109"
      },
      "source": [
        "#heatmap of data correllations\n",
        "plt.figure(figsize=(13,8))\n",
        "c=df18.corr()\n",
        "sns.set_style(\"whitegrid\");\n",
        "sns.heatmap(c,cmap='BrBG',annot=True)\n",
        "plt.title('data correllations of 2018 data')"
      ],
      "execution_count": null,
      "outputs": [
        {
          "output_type": "execute_result",
          "data": {
            "text/plain": [
              "Text(0.5, 1.0, 'data correllations of 2018 data')"
            ]
          },
          "metadata": {
            "tags": []
          },
          "execution_count": 22
        },
        {
          "output_type": "display_data",
          "data": {
            "image/png": "[encoded data removed]",
            "text/plain": [
              "<Figure size 936x576 with 2 Axes>"
            ]
          },
          "metadata": {
            "tags": []
          }
        }
      ]
    },
    {
      "cell_type": "code",
      "metadata": {
        "id": "puhny-kaMteP",
        "colab": {
          "base_uri": "https://localhost:8080/",
          "height": 516
        },
        "outputId": "59c7f665-66a4-4535-db36-fd92fee15c7e"
      },
      "source": [
        "#heatmap of data correllations\n",
        "plt.figure(figsize=(13,8))\n",
        "c=df19.corr()\n",
        "sns.set_style(\"whitegrid\");\n",
        "sns.heatmap(c,cmap='BrBG',annot=True)\n",
        "plt.title('data correllations of 2019 data')"
      ],
      "execution_count": null,
      "outputs": [
        {
          "output_type": "execute_result",
          "data": {
            "text/plain": [
              "Text(0.5, 1.0, 'data correllations of 2019 data')"
            ]
          },
          "metadata": {
            "tags": []
          },
          "execution_count": 23
        },
        {
          "output_type": "display_data",
          "data": {
            "image/png": "[encoded data removed]",
            "text/plain": [
              "<Figure size 936x576 with 2 Axes>"
            ]
          },
          "metadata": {
            "tags": []
          }
        }
      ]
    },
    {
      "cell_type": "code",
      "metadata": {
        "id": "z0NCOr92MteT",
        "colab": {
          "base_uri": "https://localhost:8080/",
          "height": 312
        },
        "outputId": "2cb5f075-c204-4a1c-ae6b-f6a3c479b422"
      },
      "source": [
        "#kde plot  for reported cases\n",
        "x=train['Reported Cases']\n",
        "sns.kdeplot(x, shade=True)\n",
        "plt.title('distribution of reported cases')\n"
      ],
      "execution_count": null,
      "outputs": [
        {
          "output_type": "execute_result",
          "data": {
            "text/plain": [
              "Text(0.5, 1.0, 'distribution of reported cases')"
            ]
          },
          "metadata": {
            "tags": []
          },
          "execution_count": 24
        },
        {
          "output_type": "display_data",
          "data": {
            "image/png": "[encoded data removed]",
            "text/plain": [
              "<Figure size 432x288 with 1 Axes>"
            ]
          },
          "metadata": {
            "tags": []
          }
        }
      ]
    },
    {
      "cell_type": "code",
      "metadata": {
        "id": "lUWYc3kiMteX",
        "colab": {
          "base_uri": "https://localhost:8080/",
          "height": 312
        },
        "outputId": "aeefc1cb-170b-4fb1-fb48-8db7b83de1f7"
      },
      "source": [
        "#kde plot  for reported cases\n",
        "x=train['Death Case']\n",
        "sns.kdeplot(x, shade=True)\n",
        "plt.title('distribution of death cases')\n"
      ],
      "execution_count": null,
      "outputs": [
        {
          "output_type": "execute_result",
          "data": {
            "text/plain": [
              "Text(0.5, 1.0, 'distribution of death cases')"
            ]
          },
          "metadata": {
            "tags": []
          },
          "execution_count": 25
        },
        {
          "output_type": "display_data",
          "data": {
            "image/png": "[encoded data removed]",
            "text/plain": [
              "<Figure size 432x288 with 1 Axes>"
            ]
          },
          "metadata": {
            "tags": []
          }
        }
      ]
    },
    {
      "cell_type": "code",
      "metadata": {
        "id": "6OpN3u3EMteb",
        "colab": {
          "base_uri": "https://localhost:8080/",
          "height": 312
        },
        "outputId": "ac68e5b4-b021-49cd-b8f7-fafe310c93d0"
      },
      "source": [
        "sns.countplot(x='SEX',data=df18)\n",
        "plt.title('count of cases males and females who are infected in 2018')"
      ],
      "execution_count": null,
      "outputs": [
        {
          "output_type": "execute_result",
          "data": {
            "text/plain": [
              "Text(0.5, 1.0, 'count of cases males and females who are infected in 2018')"
            ]
          },
          "metadata": {
            "tags": []
          },
          "execution_count": 26
        },
        {
          "output_type": "display_data",
          "data": {
            "image/png": "[encoded data removed]",
            "text/plain": [
              "<Figure size 432x288 with 1 Axes>"
            ]
          },
          "metadata": {
            "tags": []
          }
        }
      ]
    },
    {
      "cell_type": "code",
      "metadata": {
        "id": "AuRyNfx3Mtef",
        "colab": {
          "base_uri": "https://localhost:8080/",
          "height": 312
        },
        "outputId": "ebcd1040-c8b1-471b-aa91-60ec9afd1402"
      },
      "source": [
        "sns.countplot(x='SEX',data=df19)\n",
        "plt.title('count of cases males and females who are infected in 2019')"
      ],
      "execution_count": null,
      "outputs": [
        {
          "output_type": "execute_result",
          "data": {
            "text/plain": [
              "Text(0.5, 1.0, 'count of cases males and females who are infected in 2019')"
            ]
          },
          "metadata": {
            "tags": []
          },
          "execution_count": 27
        },
        {
          "output_type": "display_data",
          "data": {
            "image/png": "[encoded data removed]",
            "text/plain": [
              "<Figure size 432x288 with 1 Axes>"
            ]
          },
          "metadata": {
            "tags": []
          }
        }
      ]
    },
    {
      "cell_type": "code",
      "metadata": {
        "id": "8d7lJFXVMteo",
        "colab": {
          "base_uri": "https://localhost:8080/",
          "height": 499
        },
        "outputId": "6a736374-1867-4e39-bea2-832f73e3cc4c"
      },
      "source": [
        "#boxplot of the training data\n",
        "plt.figure(figsize=(7,8))\n",
        "sns.boxplot(data=train)\n",
        "plt.title('box plot of the training data')\n",
        "plt.show()\n"
      ],
      "execution_count": null,
      "outputs": [
        {
          "output_type": "display_data",
          "data": {
            "image/png": "[encoded data removed]",
            "text/plain": [
              "<Figure size 504x576 with 1 Axes>"
            ]
          },
          "metadata": {
            "tags": []
          }
        }
      ]
    },
    {
      "cell_type": "code",
      "metadata": {
        "id": "oyhMWBfmMter",
        "colab": {
          "base_uri": "https://localhost:8080/",
          "height": 499
        },
        "outputId": "e74e4173-aacd-468a-c83b-00b792fa8c8e"
      },
      "source": [
        "#boxplot of the testing  data\n",
        "plt.figure(figsize=(7,8))\n",
        "sns.boxplot(data=test)\n",
        "plt.title('box plot of the training data')\n",
        "plt.show()\n"
      ],
      "execution_count": null,
      "outputs": [
        {
          "output_type": "display_data",
          "data": {
            "image/png": "[encoded data removed]",
            "text/plain": [
              "<Figure size 504x576 with 1 Axes>"
            ]
          },
          "metadata": {
            "tags": []
          }
        }
      ]
    },
    {
      "cell_type": "code",
      "metadata": {
        "id": "MD4IMuROMtet",
        "colab": {
          "base_uri": "https://localhost:8080/",
          "height": 452
        },
        "outputId": "38adac0c-dd0a-4aec-ec9b-768abf5c7429"
      },
      "source": [
        "#converting the season values to enable training\n",
        "#let 0 stand for dry\n",
        "#and 1 stand for wet\n",
        "train['Season']=np.where(train['Season']=='Dry',0,1)\n",
        "train"
      ],
      "execution_count": null,
      "outputs": [
        {
          "output_type": "execute_result",
          "data": {
            "text/html": [
              "<div>\n",
              "<style scoped>\n",
              "    .dataframe tbody tr th:only-of-type {\n",
              "        vertical-align: middle;\n",
              "    }\n",
              "\n",
              "    .dataframe tbody tr th {\n",
              "        vertical-align: top;\n",
              "    }\n",
              "\n",
              "    .dataframe thead th {\n",
              "        text-align: right;\n",
              "    }\n",
              "</style>\n",
              "<table border=\"1\" class=\"dataframe\">\n",
              "  <thead>\n",
              "    <tr style=\"text-align: right;\">\n",
              "      <th></th>\n",
              "      <th>Month</th>\n",
              "      <th>Reported Cases</th>\n",
              "      <th>Season</th>\n",
              "      <th>Death Case</th>\n",
              "    </tr>\n",
              "  </thead>\n",
              "  <tbody>\n",
              "    <tr>\n",
              "      <th>0</th>\n",
              "      <td>January</td>\n",
              "      <td>4.0</td>\n",
              "      <td>0</td>\n",
              "      <td>0.0</td>\n",
              "    </tr>\n",
              "    <tr>\n",
              "      <th>1</th>\n",
              "      <td>February</td>\n",
              "      <td>5.0</td>\n",
              "      <td>0</td>\n",
              "      <td>0.0</td>\n",
              "    </tr>\n",
              "    <tr>\n",
              "      <th>2</th>\n",
              "      <td>March</td>\n",
              "      <td>10.0</td>\n",
              "      <td>1</td>\n",
              "      <td>1.0</td>\n",
              "    </tr>\n",
              "    <tr>\n",
              "      <th>3</th>\n",
              "      <td>April</td>\n",
              "      <td>8.0</td>\n",
              "      <td>1</td>\n",
              "      <td>0.0</td>\n",
              "    </tr>\n",
              "    <tr>\n",
              "      <th>4</th>\n",
              "      <td>May</td>\n",
              "      <td>16.0</td>\n",
              "      <td>1</td>\n",
              "      <td>0.0</td>\n",
              "    </tr>\n",
              "    <tr>\n",
              "      <th>5</th>\n",
              "      <td>June</td>\n",
              "      <td>6.0</td>\n",
              "      <td>0</td>\n",
              "      <td>1.0</td>\n",
              "    </tr>\n",
              "    <tr>\n",
              "      <th>6</th>\n",
              "      <td>July</td>\n",
              "      <td>4.0</td>\n",
              "      <td>0</td>\n",
              "      <td>2.0</td>\n",
              "    </tr>\n",
              "    <tr>\n",
              "      <th>7</th>\n",
              "      <td>August</td>\n",
              "      <td>6.0</td>\n",
              "      <td>0</td>\n",
              "      <td>0.0</td>\n",
              "    </tr>\n",
              "    <tr>\n",
              "      <th>8</th>\n",
              "      <td>September</td>\n",
              "      <td>9.0</td>\n",
              "      <td>1</td>\n",
              "      <td>0.0</td>\n",
              "    </tr>\n",
              "    <tr>\n",
              "      <th>9</th>\n",
              "      <td>October</td>\n",
              "      <td>13.0</td>\n",
              "      <td>1</td>\n",
              "      <td>1.0</td>\n",
              "    </tr>\n",
              "    <tr>\n",
              "      <th>10</th>\n",
              "      <td>November</td>\n",
              "      <td>10.0</td>\n",
              "      <td>1</td>\n",
              "      <td>0.0</td>\n",
              "    </tr>\n",
              "    <tr>\n",
              "      <th>11</th>\n",
              "      <td>December</td>\n",
              "      <td>15.0</td>\n",
              "      <td>1</td>\n",
              "      <td>2.0</td>\n",
              "    </tr>\n",
              "    <tr>\n",
              "      <th>12</th>\n",
              "      <td>NaN</td>\n",
              "      <td>NaN</td>\n",
              "      <td>1</td>\n",
              "      <td>NaN</td>\n",
              "    </tr>\n",
              "  </tbody>\n",
              "</table>\n",
              "</div>"
            ],
            "text/plain": [
              "        Month  Reported Cases  Season  Death Case\n",
              "0     January             4.0       0         0.0\n",
              "1    February             5.0       0         0.0\n",
              "2       March            10.0       1         1.0\n",
              "3       April             8.0       1         0.0\n",
              "4         May            16.0       1         0.0\n",
              "5        June             6.0       0         1.0\n",
              "6        July             4.0       0         2.0\n",
              "7      August             6.0       0         0.0\n",
              "8   September             9.0       1         0.0\n",
              "9     October            13.0       1         1.0\n",
              "10   November            10.0       1         0.0\n",
              "11   December            15.0       1         2.0\n",
              "12        NaN             NaN       1         NaN"
            ]
          },
          "metadata": {
            "tags": []
          },
          "execution_count": 31
        }
      ]
    },
    {
      "cell_type": "code",
      "metadata": {
        "id": "0IX2pbqbMtex"
      },
      "source": [
        " train= train.dropna()"
      ],
      "execution_count": null,
      "outputs": []
    },
    {
      "cell_type": "code",
      "metadata": {
        "id": "Oxre_krkMte2"
      },
      "source": [
        "feat=['Reported Cases','Season']\n",
        "X=train[feat].values\n",
        "y=train['Death Case'].values"
      ],
      "execution_count": null,
      "outputs": []
    },
    {
      "cell_type": "code",
      "metadata": {
        "id": "Mhb92Q2UMte6"
      },
      "source": [
        "# splitting the dataset\n",
        "X_train,X_test,y_train,y_test=train_test_split(X,y,test_size=0.3, random_state=1) #70% training set and 30% test"
      ],
      "execution_count": null,
      "outputs": []
    },
    {
      "cell_type": "code",
      "metadata": {
        "id": "HBCooIxlMte-",
        "colab": {
          "base_uri": "https://localhost:8080/"
        },
        "outputId": "1f7c794b-2d4c-4d73-a811-2ed66f37b01b"
      },
      "source": [
        "print(X_train.shape)\n",
        "print(X_test.shape)\n",
        "print(y_train.shape)\n",
        "print(y_test.shape)"
      ],
      "execution_count": null,
      "outputs": [
        {
          "output_type": "stream",
          "text": [
            "(8, 2)\n",
            "(4, 2)\n",
            "(8,)\n",
            "(4,)\n"
          ],
          "name": "stdout"
        }
      ]
    },
    {
      "cell_type": "markdown",
      "metadata": {
        "id": "_jF-ad-iMtfC"
      },
      "source": [
        "### MODEL TRAINING"
      ]
    },
    {
      "cell_type": "code",
      "metadata": {
        "id": "VCbwoUF3MtfC",
        "colab": {
          "base_uri": "https://localhost:8080/"
        },
        "outputId": "ef3b8903-cdbf-40e7-d850-317487ab6b81"
      },
      "source": [
        "\n",
        "\n",
        "#using the linear regression algorithm\n",
        "clf = LinearRegression(normalize=True)\n",
        "#fitting the model\n",
        "clf.fit(X_train,y_train)\n",
        "#making the prediction\n",
        "y_pred = clf.predict(X_test)\n",
        "\n",
        "print(r2_score(y_test,y_pred))"
      ],
      "execution_count": null,
      "outputs": [
        {
          "output_type": "stream",
          "text": [
            "-4.032295271049601\n"
          ],
          "name": "stdout"
        }
      ]
    },
    {
      "cell_type": "code",
      "metadata": {
        "id": "Km4EB6ZlMtfG",
        "colab": {
          "base_uri": "https://localhost:8080/"
        },
        "outputId": "68cee0e2-1738-48df-f576-97af19a1bd50"
      },
      "source": [
        "# Random forest Rclassifier\n",
        "rf =RandomForestClassifier(n_estimators=100,oob_score=True,random_state=123)\n",
        "rf.fit(X_train,y_train)\n",
        "pred=rf.predict(X_test)\n",
        "accuracy=accuracy_score(y_test,pred)\n",
        "print(accuracy)"
      ],
      "execution_count": null,
      "outputs": [
        {
          "output_type": "stream",
          "text": [
            "0.5\n"
          ],
          "name": "stdout"
        }
      ]
    },
    {
      "cell_type": "code",
      "metadata": {
        "id": "_z_VbaTVMtfJ",
        "colab": {
          "base_uri": "https://localhost:8080/"
        },
        "outputId": "609cef59-86d0-4c01-f721-fa40ba7948a1"
      },
      "source": [
        "#KNeighborsClassifier\n",
        "kn =KNeighborsClassifier(n_neighbors=4,metric='euclidean')\n",
        "kn.fit(X_train,y_train)\n",
        "\n",
        "y_pred =kn.predict(X_test)\n",
        "accuracy=accuracy_score(y_test,pred)\n",
        "print(accuracy)"
      ],
      "execution_count": null,
      "outputs": [
        {
          "output_type": "stream",
          "text": [
            "0.5\n"
          ],
          "name": "stdout"
        }
      ]
    },
    {
      "cell_type": "markdown",
      "metadata": {
        "id": "90VVhzHsMtfM"
      },
      "source": [
        "### Using Support Vector machine "
      ]
    },
    {
      "cell_type": "code",
      "metadata": {
        "id": "Kl3y0H1RMtfM",
        "colab": {
          "base_uri": "https://localhost:8080/"
        },
        "outputId": "9789686c-be2c-468e-93ec-cec04cb29795"
      },
      "source": [
        "svm = SVC(kernel='rbf',random_state=0)\n",
        "svm.fit(X_train,y_train)"
      ],
      "execution_count": null,
      "outputs": [
        {
          "output_type": "execute_result",
          "data": {
            "text/plain": [
              "SVC(C=1.0, break_ties=False, cache_size=200, class_weight=None, coef0=0.0,\n",
              "    decision_function_shape='ovr', degree=3, gamma='scale', kernel='rbf',\n",
              "    max_iter=-1, probability=False, random_state=0, shrinking=True, tol=0.001,\n",
              "    verbose=False)"
            ]
          },
          "metadata": {
            "tags": []
          },
          "execution_count": 41
        }
      ]
    },
    {
      "cell_type": "code",
      "metadata": {
        "id": "w3zR4NlLMtfP",
        "colab": {
          "base_uri": "https://localhost:8080/"
        },
        "outputId": "1bc96366-136e-4454-f33b-e14af3640722"
      },
      "source": [
        "svm.score(X_test,y_test)"
      ],
      "execution_count": null,
      "outputs": [
        {
          "output_type": "execute_result",
          "data": {
            "text/plain": [
              "0.5"
            ]
          },
          "metadata": {
            "tags": []
          },
          "execution_count": 42
        }
      ]
    },
    {
      "cell_type": "markdown",
      "metadata": {
        "id": "NghjgKiiMtfT"
      },
      "source": [
        "### Applying standard scaler "
      ]
    },
    {
      "cell_type": "code",
      "metadata": {
        "id": "N4cfHhgdMtfU"
      },
      "source": [
        "sc = StandardScaler()\n",
        "X_train = sc.fit_transform(X_train)\n",
        "X_test = sc.transform(X_test)"
      ],
      "execution_count": null,
      "outputs": []
    },
    {
      "cell_type": "code",
      "metadata": {
        "id": "dj6xDvv0MtfZ",
        "colab": {
          "base_uri": "https://localhost:8080/"
        },
        "outputId": "fe46598b-7a8f-407a-9869-adb710ba89b3"
      },
      "source": [
        "svm = SVC(kernel='rbf',random_state=0,probability=True) #probability for predict_proba\n",
        "svm.fit(X_train,y_train)"
      ],
      "execution_count": null,
      "outputs": [
        {
          "output_type": "execute_result",
          "data": {
            "text/plain": [
              "SVC(C=1.0, break_ties=False, cache_size=200, class_weight=None, coef0=0.0,\n",
              "    decision_function_shape='ovr', degree=3, gamma='scale', kernel='rbf',\n",
              "    max_iter=-1, probability=True, random_state=0, shrinking=True, tol=0.001,\n",
              "    verbose=False)"
            ]
          },
          "metadata": {
            "tags": []
          },
          "execution_count": 44
        }
      ]
    },
    {
      "cell_type": "code",
      "metadata": {
        "id": "P9Sz6-aTMtfj",
        "colab": {
          "base_uri": "https://localhost:8080/"
        },
        "outputId": "70a28cf0-516c-4a29-bde9-b7e3a97a5efe"
      },
      "source": [
        "svm.score(X_test,y_test)"
      ],
      "execution_count": null,
      "outputs": [
        {
          "output_type": "execute_result",
          "data": {
            "text/plain": [
              "0.5"
            ]
          },
          "metadata": {
            "tags": []
          },
          "execution_count": 45
        }
      ]
    },
    {
      "cell_type": "markdown",
      "metadata": {
        "id": "0AR3I6HeMtfm"
      },
      "source": [
        "### Applying hyper parameter tuning to improve the model accuracy"
      ]
    },
    {
      "cell_type": "code",
      "metadata": {
        "id": "MrhhzfGaMtfn",
        "colab": {
          "base_uri": "https://localhost:8080/"
        },
        "outputId": "dd9f624d-a986-47c4-be2a-110d9b17c7ff"
      },
      "source": [
        "param_grid = {'C':[1,10,100,200],\n",
        "              'kernel':['rbf','poly','linear','sigmoid'],\n",
        "              'degree':[1,2,4,6],\n",
        "              'gamma':[0.01,0.1,0.5,1]}\n",
        "\n",
        "grid=GridSearchCV(SVC(), param_grid=param_grid, cv=4)\n",
        "grid.fit(X_train,y_train)\n",
        "\n",
        "y_pred = grid.predict(X_test)\n",
        "\n",
        "print(\"Accuracy: {}\".format(grid.score(X_test, y_test)))\n",
        "print(\"Tuned Model Parameters: {}\".format(grid.best_params_))"
      ],
      "execution_count": null,
      "outputs": [
        {
          "output_type": "stream",
          "text": [
            "Accuracy: 0.5\n",
            "Tuned Model Parameters: {'C': 1, 'degree': 4, 'gamma': 1, 'kernel': 'poly'}\n"
          ],
          "name": "stdout"
        }
      ]
    },
    {
      "cell_type": "markdown",
      "metadata": {
        "id": "Rn7O3XRYMtfr"
      },
      "source": [
        "### Confusion matrix"
      ]
    },
    {
      "cell_type": "code",
      "metadata": {
        "id": "tdMI5jiNMtfs",
        "colab": {
          "base_uri": "https://localhost:8080/"
        },
        "outputId": "2f30205d-5cbb-43e0-bd82-337ce3477958"
      },
      "source": [
        "y_pred = svm.predict(X_test)\n",
        "cm = confusion_matrix(y_pred,y_test)\n",
        "print('Confusion Matrix \\n',cm)"
      ],
      "execution_count": null,
      "outputs": [
        {
          "output_type": "stream",
          "text": [
            "Confusion Matrix \n",
            " [[2 1 0]\n",
            " [0 0 0]\n",
            " [1 0 0]]\n"
          ],
          "name": "stdout"
        }
      ]
    },
    {
      "cell_type": "markdown",
      "metadata": {
        "id": "fsDoqC-CMtfw"
      },
      "source": [
        " False Positive 2\n",
        "- False Negative 1\n",
        "- True Negative 1\n",
        "- True Positive 0\n"
      ]
    },
    {
      "cell_type": "code",
      "metadata": {
        "id": "co07lm0jMtfx",
        "colab": {
          "base_uri": "https://localhost:8080/",
          "height": 269
        },
        "outputId": "085fd91d-a68f-404d-a610-eab71639ef27"
      },
      "source": [
        "plt.figure(figsize=(6,4))\n",
        "sns.heatmap(cm,annot=True,fmt=\"d\") \n",
        "plt.show()"
      ],
      "execution_count": null,
      "outputs": [
        {
          "output_type": "display_data",
          "data": {
            "image/png": "[encoded data removed]",
            "text/plain": [
              "<Figure size 432x288 with 2 Axes>"
            ]
          },
          "metadata": {
            "tags": []
          }
        }
      ]
    },
    {
      "cell_type": "markdown",
      "metadata": {
        "id": "00LfbNeaMtf2"
      },
      "source": [
        "### classification report"
      ]
    },
    {
      "cell_type": "code",
      "metadata": {
        "id": "2st2UTVOMtf2"
      },
      "source": [
        "from sklearn.metrics import roc_curve,auc\n",
        "from sklearn.metrics import classification_report"
      ],
      "execution_count": null,
      "outputs": []
    },
    {
      "cell_type": "code",
      "metadata": {
        "id": "xjLHE80VMtf6",
        "colab": {
          "base_uri": "https://localhost:8080/"
        },
        "outputId": "60cbe14e-f0d4-4873-b1fb-732a20a11127"
      },
      "source": [
        "cr = classification_report(y_pred,y_test)\n",
        "print('Classification Report\\n',cr)"
      ],
      "execution_count": null,
      "outputs": [
        {
          "output_type": "stream",
          "text": [
            "Classification Report\n",
            "               precision    recall  f1-score   support\n",
            "\n",
            "         0.0       0.67      0.67      0.67         3\n",
            "         1.0       0.00      0.00      0.00         0\n",
            "         2.0       0.00      0.00      0.00         1\n",
            "\n",
            "    accuracy                           0.50         4\n",
            "   macro avg       0.22      0.22      0.22         4\n",
            "weighted avg       0.50      0.50      0.50         4\n",
            "\n"
          ],
          "name": "stdout"
        }
      ]
    },
    {
      "cell_type": "markdown",
      "metadata": {
        "id": "yKtk1P8MMtf8"
      },
      "source": [
        "### Roc Curve"
      ]
    },
    {
      "cell_type": "code",
      "metadata": {
        "id": "2yWf-QCnMtf9",
        "colab": {
          "base_uri": "https://localhost:8080/",
          "height": 404
        },
        "outputId": "745fddab-bc69-4acd-d848-8aaf27767d80"
      },
      "source": [
        "y_prob = svm.predict_proba(X_test)[:,1]\n",
        "fpr, tpr, threshold = roc_curve(y_test,y_prob)\n",
        "Auc = auc(fpr, tpr)\n",
        "plt.figure(figsize=(8,6))\n",
        "plt.plot(fpr, tpr,linestyle='-',label='(auc=%0.3f)' %Auc)\n",
        "plt.plot([0,1],[0,1])\n",
        "plt.title('ROC CURVE')\n",
        "plt.xlabel('False Positive Rate')\n",
        "plt.ylabel('True Positive Rate')\n",
        "plt.legend(loc=4)\n",
        "plt.show()"
      ],
      "execution_count": null,
      "outputs": [
        {
          "output_type": "display_data",
          "data": {
            "image/png": "[encoded data removed]",
            "text/plain": [
              "<Figure size 576x432 with 1 Axes>"
            ]
          },
          "metadata": {
            "tags": []
          }
        }
      ]
    },
    {
      "cell_type": "markdown",
      "metadata": {
        "id": "FhjAzLmSMtf_"
      },
      "source": [
        "### Model complexity"
      ]
    },
    {
      "cell_type": "code",
      "metadata": {
        "id": "Ud17PORqMtgA",
        "colab": {
          "base_uri": "https://localhost:8080/",
          "height": 421
        },
        "outputId": "4561182a-0e4f-4dbc-d9ec-27ff34674b5f"
      },
      "source": [
        "num = np.arange(1, 30)\n",
        "train_accuracy = []\n",
        "test_accuracy = []\n",
        "for i, k in enumerate(num):\n",
        "    svm = SVC(C=k)\n",
        "    svm.fit(X_train,y_train)\n",
        "    train_accuracy.append(svm.score(X_train, y_train))\n",
        "    test_accuracy.append(svm.score(X_test, y_test))\n",
        "\n",
        "# Plot\n",
        "plt.figure(figsize=(10,6))\n",
        "plt.plot(num, test_accuracy, label = 'Testing Accuracy')\n",
        "plt.plot(num, train_accuracy, label = 'Training Accuracy')\n",
        "plt.legend(loc=10)\n",
        "plt.title('value VS Accuracy')\n",
        "plt.xlabel('Number of C')\n",
        "plt.ylabel('Accuracy')\n",
        "plt.xticks(num)\n",
        "plt.show()\n",
        "print(\"Best accuracy is {} with C = {}\".format(np.max(test_accuracy),\n",
        "                                               1+test_accuracy.index(np.max(test_accuracy))))"
      ],
      "execution_count": null,
      "outputs": [
        {
          "output_type": "display_data",
          "data": {
            "image/png": "[encoded data removed]",
            "text/plain": [
              "<Figure size 720x432 with 1 Axes>"
            ]
          },
          "metadata": {
            "tags": []
          }
        },
        {
          "output_type": "stream",
          "text": [
            "Best accuracy is 0.5 with C = 1\n"
          ],
          "name": "stdout"
        }
      ]
    },
    {
      "cell_type": "code",
      "metadata": {
        "id": "aVsbVTM3MtgD"
      },
      "source": [
        ""
      ],
      "execution_count": null,
      "outputs": []
    }
  ]
}